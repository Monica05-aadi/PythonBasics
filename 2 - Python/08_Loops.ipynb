{
 "cells": [
  {
   "attachments": {},
   "cell_type": "markdown",
   "metadata": {},
   "source": [
    "Loops .... iterating (process each item) over a collection of items. "
   ]
  },
  {
   "attachments": {},
   "cell_type": "markdown",
   "metadata": {},
   "source": [
    "## FOR LOOPS"
   ]
  },
  {
   "cell_type": "code",
   "execution_count": 1,
   "metadata": {},
   "outputs": [
    {
     "name": "stdout",
     "output_type": "stream",
     "text": [
      "10\n",
      "20\n",
      "30\n",
      "Hello\n",
      "4.5\n"
     ]
    }
   ],
   "source": [
    "L = [10,20,30,\"Hello\", 4.5]\n",
    "\n",
    "# Print each item of list L\n",
    "for item in L:\n",
    "    print(item)"
   ]
  },
  {
   "cell_type": "code",
   "execution_count": 2,
   "metadata": {},
   "outputs": [
    {
     "name": "stdout",
     "output_type": "stream",
     "text": [
      "0 0\n",
      "1 2\n",
      "2 4\n",
      "3 6\n",
      "4 8\n",
      "5 10\n",
      "6 12\n",
      "7 14\n",
      "8 16\n",
      "9 18\n"
     ]
    }
   ],
   "source": [
    "for i in range(10):\n",
    "    print(i, 2*i)"
   ]
  },
  {
   "cell_type": "code",
   "execution_count": 5,
   "metadata": {},
   "outputs": [
    {
     "name": "stdout",
     "output_type": "stream",
     "text": [
      "10 30\n",
      "20 60\n",
      "Oh no! item was > 20 ... breaking the loop\n",
      "We have processed the list\n"
     ]
    }
   ],
   "source": [
    "# BREAK out of a loop ... Getting out of loop early. \n",
    "L = [10,20,30,40]\n",
    "\n",
    "for i in L:\n",
    "    if i > 20:\n",
    "        print(\"Oh no! item was > 20 ... breaking the loop\")\n",
    "        break  # out of the loop\n",
    "    print(i, i*3)\n",
    "\n",
    "print(\"We have processed the list\")"
   ]
  },
  {
   "cell_type": "code",
   "execution_count": 7,
   "metadata": {},
   "outputs": [
    {
     "name": "stdout",
     "output_type": "stream",
     "text": [
      "10 30\n",
      "Oh no! item was None ... Not processing this item\n",
      "30 90\n",
      "40 120\n",
      "We have processed the list\n"
     ]
    }
   ],
   "source": [
    "# CONTINUE in the loop. Assume we don't want to process 20.\n",
    "\n",
    "L = [10, None, 30, 40]\n",
    "\n",
    "for i in L:\n",
    "    if i == None:\n",
    "        print(\"Oh no! item was None ... Not processing this item\")\n",
    "        continue  # with rest of the loop\n",
    "    print(i, i*3)\n",
    "\n",
    "print(\"We have processed the list\")"
   ]
  },
  {
   "cell_type": "code",
   "execution_count": 31,
   "metadata": {},
   "outputs": [
    {
     "name": "stdout",
     "output_type": "stream",
     "text": [
      "0 Delhi\n",
      "1 Pune\n",
      "2 Chennai\n",
      "3 Bangalore\n",
      "4 Mumbai\n"
     ]
    }
   ],
   "source": [
    "# ENUMERATION: Getting index and value of item\n",
    "\n",
    "L = [\"Delhi\", \"Pune\", \"Chennai\", \"Bangalore\", \"Mumbai\"]\n",
    "\n",
    "# we want to see index, value\n",
    "for index, value in enumerate(L):\n",
    "    print(index, value)\n"
   ]
  },
  {
   "cell_type": "code",
   "execution_count": 33,
   "metadata": {},
   "outputs": [
    {
     "name": "stdout",
     "output_type": "stream",
     "text": [
      "Bangalore is at position:  3\n"
     ]
    }
   ],
   "source": [
    "# we want to find index of \"Bangalore\"\n",
    "for index, value in enumerate(L):\n",
    "    if value == \"Bangalore\":\n",
    "        print(\"Bangalore is at position: \", index)\n",
    "        break\n",
    "\n"
   ]
  },
  {
   "attachments": {},
   "cell_type": "markdown",
   "metadata": {},
   "source": [
    "## WHILE LOOP"
   ]
  },
  {
   "cell_type": "code",
   "execution_count": 20,
   "metadata": {},
   "outputs": [
    {
     "name": "stdout",
     "output_type": "stream",
     "text": [
      "0\n",
      "1\n",
      "1\n",
      "4\n",
      "8\n",
      "Stopped loop: x exceeded 10\n"
     ]
    }
   ],
   "source": [
    "# WHILE LOOP\n",
    "import random\n",
    "\n",
    "x = 0\n",
    "while x < 10:\n",
    "    print(x)  # processing x\n",
    "    x = x + random.randint(0,5)\n",
    "    \n",
    "print(\"Stopped loop: x exceeded 10\")"
   ]
  },
  {
   "cell_type": "code",
   "execution_count": 21,
   "metadata": {},
   "outputs": [
    {
     "name": "stdout",
     "output_type": "stream",
     "text": [
      "Loop is over\n"
     ]
    }
   ],
   "source": [
    "while False:\n",
    "    print(\"Inside loop\")  # This will never be executed. \n",
    "\n",
    "print(\"Loop is over\")"
   ]
  },
  {
   "cell_type": "code",
   "execution_count": 25,
   "metadata": {},
   "outputs": [
    {
     "name": "stdout",
     "output_type": "stream",
     "text": [
      "45 45\n",
      "45 90\n",
      "10 100\n",
      "Total =  100\n"
     ]
    }
   ],
   "source": [
    "# Basic Adder Calculator\n",
    "\n",
    "sum = 0 \n",
    "while True:\n",
    "    AA = int(input(\"Enter the number (0 to exit): \"))\n",
    "    if AA == 0:\n",
    "        break\n",
    "    else:\n",
    "        sum += AA\n",
    "        print(AA, sum)\n",
    "\n",
    "\n",
    "print(\"Total = \", sum)"
   ]
  },
  {
   "cell_type": "code",
   "execution_count": 27,
   "metadata": {},
   "outputs": [
    {
     "name": "stdout",
     "output_type": "stream",
     "text": [
      "50\n",
      "40\n",
      "30\n",
      "20\n",
      "10\n"
     ]
    }
   ],
   "source": [
    "L = [10,20,30,40,50]\n",
    "\n",
    "while len(L) > 0:\n",
    "    item = L.pop()\n",
    "    print(item)"
   ]
  }
 ],
 "metadata": {
  "kernelspec": {
   "display_name": "base",
   "language": "python",
   "name": "python3"
  },
  "language_info": {
   "codemirror_mode": {
    "name": "ipython",
    "version": 3
   },
   "file_extension": ".py",
   "mimetype": "text/x-python",
   "name": "python",
   "nbconvert_exporter": "python",
   "pygments_lexer": "ipython3",
   "version": "3.8.5"
  },
  "orig_nbformat": 4,
  "vscode": {
   "interpreter": {
    "hash": "8c0f66ee69a2e1be1f450e9783623bdbe6f07bfe65fded3af2a7652719518d17"
   }
  }
 },
 "nbformat": 4,
 "nbformat_minor": 2
}
