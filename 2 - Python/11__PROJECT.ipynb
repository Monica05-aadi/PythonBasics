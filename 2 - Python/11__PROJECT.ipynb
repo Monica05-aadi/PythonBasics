{
 "cells": [
  {
   "attachments": {},
   "cell_type": "markdown",
   "metadata": {},
   "source": [
    "## Read Employee Data"
   ]
  },
  {
   "cell_type": "code",
   "execution_count": 4,
   "metadata": {},
   "outputs": [],
   "source": [
    "# Read the \"employees.csv\" file into a list of strings called \"data\".  \n",
    "# The first line (data[0]) will contain the column header names.  Remaining lines will be actual data. \n",
    "\n",
    "# ... code .... \n",
    "\n",
    "# data = \n",
    "# ['EMPLOYEE_ID,FIRST_NAME,LAST_NAME,EMAIL,PHONE_NUMBER,HIRE_DATE,JOB_ID,SALARY,COMMISSION_PCT,MANAGER_ID,DEPARTMENT_ID\\n',\n",
    "#  '198,Donald,OConnell,DOCONNEL,650.507.9833,21-JUN-07,SH_CLERK,2600, - ,124,50\\n',\n",
    "#  '199,Douglas,Grant,DGRANT,650.507.9844,13-JAN-08,SH_CLERK,2600, 5 ,124,50\\n',\n",
    "#  ..... .....]"
   ]
  },
  {
   "cell_type": "code",
   "execution_count": 5,
   "metadata": {},
   "outputs": [],
   "source": [
    "# Extract Column Names into a list called \"columnList\".  \n",
    "# Make sure there are no extra spaces or newlines in the names.\n",
    "\n",
    "# ... code .... \n",
    "\n",
    "# Expected Result: \n",
    "# colNamesList =  ['EMPLOYEE_ID', 'FIRST_NAME', 'LAST_NAME', 'EMAIL',  'PHONE_NUMBER',  'HIRE_DATE', \n",
    "#  'JOB_ID',   'SALARY',  'COMMISSION_PCT', 'MANAGER_ID', 'DEPARTMENT_ID']\n"
   ]
  },
  {
   "cell_type": "code",
   "execution_count": 6,
   "metadata": {},
   "outputs": [],
   "source": [
    "# Read each employee data and make a dictionary of it. Store dictionary into a new list called \"employeeList\" as shown below.  \n",
    "employeeList = []  \n",
    "\n",
    "# ... code .... \n",
    "\n",
    "# Expected Result:\n",
    "# employeeList # [ \n",
    "# {'EMPLOYEE_ID': 198,  'FIRST_NAME': 'Donald', 'LAST_NAME': 'OConnel', .... },\n",
    "# {'EMPLOYEE_ID': 201,  'FIRST_NAME': 'Harriet', 'LAST_NAME': 'Smith', .... }\n",
    "#]\n",
    "\n"
   ]
  },
  {
   "cell_type": "code",
   "execution_count": 7,
   "metadata": {},
   "outputs": [],
   "source": [
    "\n",
    "# Process each employee string in data[ ] in a loop\n",
    "# ... code .... \n",
    "\n",
    "    # Clean out the \\n at the end of the string as shown in below example. \n",
    "    # Example: \"201, Michael, .... 20\\n\" ==> \"201, Michael, .... 20\"\n",
    "    # ... code .... \n",
    "\n",
    "    # Split the string into a list (let's call it empList) ... use ',' as separator.\n",
    "    # ... code .... \n",
    "\n",
    "    # Create tuples that combines (use zip function) the field name with the value: \n",
    "    # empTuples = [('EMPLOYEE_ID', '198'), ('FIRST_NAME', 'Donald') ...]\n",
    "    # ... code .... \n",
    "\n",
    "    # Convert above tuples to a dictionary. Example below: Use \"dictionary comprehension\".\n",
    "    # empDict = { 'EMPLOYEE_ID': '198', 'FIRST_NAME': 'Donald',...}, ... }\n",
    "    # ... code .... \n",
    "\n",
    "    # Add employee's dictionary to emplyeeList[]\n",
    "    # ... code .... \n",
    "\n",
    "\n",
    "# Show employee list (limit it to 2 or 3 employees only ... else list will be too long)\n",
    "# ... code .... \n"
   ]
  },
  {
   "attachments": {},
   "cell_type": "markdown",
   "metadata": {},
   "source": [
    "## List Comprehensions"
   ]
  },
  {
   "cell_type": "code",
   "execution_count": 8,
   "metadata": {},
   "outputs": [],
   "source": [
    "# List Comprehension 1\n",
    "# Get (id, salary) of all people into a list. Change id to int\n",
    "# find avg / max / min salaries. \n",
    "\n",
    "# ... code ... \n",
    "\n",
    "# [('198', 2600), ('199', 2600), ('200', 4400), ('201', 13000) .... .... ]"
   ]
  },
  {
   "cell_type": "code",
   "execution_count": 9,
   "metadata": {},
   "outputs": [],
   "source": [
    "# List comprehension 2\n",
    "# Get names (first+last) and hire_date as list of tuples\n",
    "\n",
    "# ... code ... \n",
    "\n",
    "# [('Donald OConnell', '21-JUN-07'),\n",
    "#  ('Douglas Grant', '13-JAN-08'),\n",
    "#  ('Jennifer Whalen', '17-SEP-03')\n",
    "#   ...  ... ]"
   ]
  },
  {
   "cell_type": "code",
   "execution_count": 10,
   "metadata": {},
   "outputs": [],
   "source": [
    "# List comprehension 3\n",
    "# [ (id, commission_pct, dept_id), (id, commission_pct, dept_id), (), .... ]\n",
    "\n",
    "# ... code ... \n",
    "\n",
    "# emplWithCommission = \n",
    "# [('199', ' 5 ', '50'), ('101', ' 6 ', '90'), ('107', ' 3 ', '60'), ('118', ' 4 ', '30')]"
   ]
  },
  {
   "attachments": {},
   "cell_type": "markdown",
   "metadata": {},
   "source": [
    "## SORTING"
   ]
  },
  {
   "cell_type": "code",
   "execution_count": 11,
   "metadata": {},
   "outputs": [],
   "source": [
    "# Sort id_and_salary list based on increasing order of salary\n",
    "# [].sort() has a key and reverse parameters. \n",
    "# Key is a function to return the item on which to sort. \n",
    "# reverse = True/False which shows the direction (increasing / decreasing) for the sort\n",
    "\n",
    "# ... code ....\n",
    "\n",
    "# [('100', 24000), ('101', 17000), ('102', 17000), ('201', 13000), ('205', 12008), \n",
    "# ('108', 12008), ('114', 11000), ('204', 10000), ('103', 9000), ('109', 9000), \n",
    "# ('206', 8300), ('110', 8200), ('121', 8200), ('120', 8000), ('122', 7900), ('112', 7800), \n",
    "# ('111', 7700), ('113', 6900), ('203', 6500), ('123', 6500), ('202', 6000), .... ]"
   ]
  },
  {
   "cell_type": "code",
   "execution_count": 12,
   "metadata": {},
   "outputs": [],
   "source": [
    "# Show employee id's with top 10 salaries. \n",
    "\n",
    "# ... code ....\n",
    "\n",
    "# [100, 101, 102, .... 109]\n"
   ]
  },
  {
   "cell_type": "code",
   "execution_count": 13,
   "metadata": {},
   "outputs": [],
   "source": [
    "# Find id with highest salary in id_and_salary list. \n",
    "\n",
    "# ... code ....\n",
    "\n",
    "# '100'"
   ]
  },
  {
   "cell_type": "code",
   "execution_count": 14,
   "metadata": {},
   "outputs": [],
   "source": [
    "# Find AVERAGE salary\n",
    "\n",
    "# ... Code ....\n",
    "\n",
    "# Result: some number like 6300"
   ]
  },
  {
   "cell_type": "code",
   "execution_count": 15,
   "metadata": {},
   "outputs": [],
   "source": [
    "# Create a list of tuples ... [ (fullname, date_of_hire)]\n",
    "# See sample result below. \n",
    "\n",
    "# ... Code ....\n",
    "\n",
    "# [('Donald OConnell', '21-JUN-07'),\n",
    "#  ('Douglas Grant', '13-JAN-08'),\n",
    "#  ('Jennifer Whalen', '17-SEP-03'),\n",
    "#  ('Michael Hartstein', '17-FEB-04'),\n",
    "#  ('Pat Fay', '17-AUG-05')]"
   ]
  },
  {
   "cell_type": "code",
   "execution_count": 16,
   "metadata": {},
   "outputs": [],
   "source": [
    "# Who were the first 5 employees hired? \n",
    "\n",
    "# [ (name, date)  (name, date) ..... in ascending order]\n",
    "# we have to sort on hiredate in ascending order. \n",
    "# we need to change hiredate into datetime format before sorting (see strptime function). \n",
    "\n",
    "# .... code .....\n",
    "\n",
    "\n",
    "# [('Donald OConnell', datetime.datetime(2007, 6, 21, 0, 0)),\n",
    "#  ('Douglas Grant', datetime.datetime(2008, 1, 13, 0, 0)),\n",
    "#  ('Jennifer Whalen', datetime.datetime(2003, 9, 17, 0, 0)),\n",
    "#  ('Michael Hartstein', datetime.datetime(2004, 2, 17, 0, 0)),\n",
    "#  ('Pat Fay', datetime.datetime(2005, 8, 17, 0, 0))]"
   ]
  },
  {
   "cell_type": "code",
   "execution_count": 17,
   "metadata": {},
   "outputs": [],
   "source": [
    "# We need to sort on date\n",
    "\n",
    "# ... code .....\n",
    "\n",
    "# [('Lex De Haan', datetime.datetime(2001, 1, 13, 0, 0)),\n",
    "#  ('Susan Mavris', datetime.datetime(2002, 6, 7, 0, 0)),\n",
    "#  ('Hermann Baer', datetime.datetime(2002, 6, 7, 0, 0)),\n",
    "#  ('Shelley Higgins', datetime.datetime(2002, 6, 7, 0, 0)),\n",
    "#  ('William Gietz', datetime.datetime(2002, 6, 7, 0, 0)),\n",
    "#  ('Daniel Faviet', datetime.datetime(2002, 8, 16, 0, 0)),\n",
    "#  ('Nancy Greenberg', datetime.datetime(2002, 8, 17, 0, 0)),\n",
    "#  ('Den Raphaely', datetime.datetime(2002, 12, 7, 0, 0)),\n",
    "#  .... ...."
   ]
  },
  {
   "cell_type": "code",
   "execution_count": 18,
   "metadata": {},
   "outputs": [],
   "source": [
    "# First 10 employees\n",
    "\n",
    "\n",
    "# ... code ....\n",
    "\n",
    "# [('Lex De Haan', datetime.datetime(2001, 1, 13, 0, 0)),\n",
    "#  ('Susan Mavris', datetime.datetime(2002, 6, 7, 0, 0)),\n",
    "#  ('Hermann Baer', datetime.datetime(2002, 6, 7, 0, 0)),\n",
    "#  .... .... 10 employees in total ]"
   ]
  },
  {
   "cell_type": "code",
   "execution_count": 19,
   "metadata": {},
   "outputs": [],
   "source": [
    "# Newest 10 employees in descending order of hire\n",
    "\n",
    "# ... code .....\n",
    "\n",
    "# [('Steven Markle', datetime.datetime(2008, 3, 8, 0, 0)),\n",
    "#  ('Hazel Philtanker', datetime.datetime(2008, 2, 6, 0, 0)),\n",
    "#  ('Douglas Grant', datetime.datetime(2008, 1, 13, 0, 0)),\n",
    "#  ('Ki Gee', datetime.datetime(2007, 12, 12, 0, 0)),\n",
    "#  ('Luis Popp', datetime.datetime(2007, 12, 7, 0, 0)),\n",
    "#  ('Kevin Mourgos', datetime.datetime(2007, 11, 16, 0, 0)),\n",
    "#  ('Karen Colmenares', datetime.datetime(2007, 8, 10, 0, 0)),\n",
    "#  ('Donald OConnell', datetime.datetime(2007, 6, 21, 0, 0)),\n",
    "#  ('Bruce Ernst', datetime.datetime(2007, 5, 21, 0, 0)),\n",
    "#  ('TJ Olson', datetime.datetime(2007, 4, 10, 0, 0))]"
   ]
  },
  {
   "cell_type": "code",
   "execution_count": 20,
   "metadata": {},
   "outputs": [],
   "source": [
    "# How many employees were hired in 2007 ?\n",
    "\n",
    "# Result: some number of employees ... example: 15 (this might be different for you)"
   ]
  },
  {
   "cell_type": "code",
   "execution_count": 21,
   "metadata": {},
   "outputs": [],
   "source": [
    "# All meployees hired up to July 2005\n",
    "\n",
    "\n",
    "# ... code .....\n",
    "\n",
    "# [('Lex De Haan', datetime.datetime(2001, 1, 13, 0, 0)),\n",
    "#  ('Susan Mavris', datetime.datetime(2002, 6, 7, 0, 0)),\n",
    "#  ('Hermann Baer', datetime.datetime(2002, 6, 7, 0, 0)),\n",
    "#  ('Shelley Higgins', datetime.datetime(2002, 6, 7, 0, 0))\n",
    "#  ....   ....]"
   ]
  }
 ],
 "metadata": {
  "kernelspec": {
   "display_name": "base",
   "language": "python",
   "name": "python3"
  },
  "language_info": {
   "codemirror_mode": {
    "name": "ipython",
    "version": 3
   },
   "file_extension": ".py",
   "mimetype": "text/x-python",
   "name": "python",
   "nbconvert_exporter": "python",
   "pygments_lexer": "ipython3",
   "version": "3.8.5"
  },
  "orig_nbformat": 4,
  "vscode": {
   "interpreter": {
    "hash": "8c0f66ee69a2e1be1f450e9783623bdbe6f07bfe65fded3af2a7652719518d17"
   }
  }
 },
 "nbformat": 4,
 "nbformat_minor": 2
}
