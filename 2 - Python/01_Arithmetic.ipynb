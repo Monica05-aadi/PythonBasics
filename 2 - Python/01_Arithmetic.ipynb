{
 "cells": [
  {
   "cell_type": "markdown",
   "id": "7bb3c3e6-ee22-4823-95bb-0d57f44d3e79",
   "metadata": {},
   "source": [
    "# Python Airthmetic"
   ]
  },
  {
   "cell_type": "markdown",
   "id": "bc021374-1076-4d3a-ae50-d1fc0736b94a",
   "metadata": {},
   "source": [
    "## Basic Maths"
   ]
  },
  {
   "cell_type": "code",
   "execution_count": 1,
   "id": "ae379632-78c4-44a0-bee1-21e32f91b62f",
   "metadata": {},
   "outputs": [
    {
     "data": {
      "text/plain": [
       "15"
      ]
     },
     "execution_count": 1,
     "metadata": {},
     "output_type": "execute_result"
    }
   ],
   "source": [
    "10 + 5  # Add"
   ]
  },
  {
   "cell_type": "code",
   "execution_count": 2,
   "id": "2ca3857a-620b-4d97-9345-539000419453",
   "metadata": {},
   "outputs": [
    {
     "data": {
      "text/plain": [
       "5"
      ]
     },
     "execution_count": 2,
     "metadata": {},
     "output_type": "execute_result"
    }
   ],
   "source": [
    "10 - 5  # Sub"
   ]
  },
  {
   "cell_type": "code",
   "execution_count": 3,
   "id": "e626b3a8-391b-444f-8d3f-6a03d771629e",
   "metadata": {},
   "outputs": [
    {
     "data": {
      "text/plain": [
       "27"
      ]
     },
     "execution_count": 3,
     "metadata": {},
     "output_type": "execute_result"
    }
   ],
   "source": [
    "3 ** 3  # Exponent"
   ]
  },
  {
   "cell_type": "code",
   "execution_count": 4,
   "id": "d09df6e4-3b7f-445c-a689-105ead20dd35",
   "metadata": {},
   "outputs": [
    {
     "data": {
      "text/plain": [
       "9.5"
      ]
     },
     "execution_count": 4,
     "metadata": {},
     "output_type": "execute_result"
    }
   ],
   "source": [
    "# Operator Precedence\n",
    "\n",
    "2 + 5 * 3**2 / 6\n",
    "\n",
    "# **\n",
    "# * /\n",
    "# + - \n"
   ]
  },
  {
   "cell_type": "code",
   "execution_count": 5,
   "id": "1e871663-c6df-44cb-a26d-16d0fbf11b11",
   "metadata": {},
   "outputs": [
    {
     "data": {
      "text/plain": [
       "10.5"
      ]
     },
     "execution_count": 5,
     "metadata": {},
     "output_type": "execute_result"
    }
   ],
   "source": [
    "# Over-ride operator precedence using brackets\n",
    "((2 + 5) * (3**2)) / 6\n",
    "\n",
    "# ( 7 * 9 ) / 6\n",
    "# 63 / 6\n",
    "# 10.5"
   ]
  },
  {
   "cell_type": "code",
   "execution_count": 6,
   "id": "e4c0c184-60da-4afa-b70a-896f68680275",
   "metadata": {},
   "outputs": [
    {
     "data": {
      "text/plain": [
       "2"
      ]
     },
     "execution_count": 6,
     "metadata": {},
     "output_type": "execute_result"
    }
   ],
   "source": [
    "# Modulo  (remainder)\n",
    "17 % 5"
   ]
  },
  {
   "cell_type": "code",
   "execution_count": 7,
   "id": "5ca2cf58-b6e3-4967-9791-d65bc9f54758",
   "metadata": {},
   "outputs": [
    {
     "data": {
      "text/plain": [
       "16.666666666666668"
      ]
     },
     "execution_count": 7,
     "metadata": {},
     "output_type": "execute_result"
    }
   ],
   "source": [
    "50 / 3"
   ]
  },
  {
   "cell_type": "code",
   "execution_count": 8,
   "id": "566c0f56-7265-4032-b258-9b602e0ab20b",
   "metadata": {},
   "outputs": [
    {
     "data": {
      "text/plain": [
       "16"
      ]
     },
     "execution_count": 8,
     "metadata": {},
     "output_type": "execute_result"
    }
   ],
   "source": [
    "int( 50 / 3 )"
   ]
  },
  {
   "cell_type": "code",
   "execution_count": 9,
   "id": "fec11f53-70fa-48a3-9ea0-d91e05a3e626",
   "metadata": {},
   "outputs": [
    {
     "data": {
      "text/plain": [
       "5.0"
      ]
     },
     "execution_count": 9,
     "metadata": {},
     "output_type": "execute_result"
    }
   ],
   "source": [
    "float(5)"
   ]
  },
  {
   "cell_type": "code",
   "execution_count": 10,
   "id": "dc189e21-141c-47da-af42-8aecb4ade1f9",
   "metadata": {},
   "outputs": [
    {
     "data": {
      "text/plain": [
       "34"
      ]
     },
     "execution_count": 10,
     "metadata": {},
     "output_type": "execute_result"
    }
   ],
   "source": [
    "abs(-34)"
   ]
  },
  {
   "cell_type": "code",
   "execution_count": 11,
   "id": "6fb34e71-4c6b-4330-93e7-b64a86f53d64",
   "metadata": {},
   "outputs": [
    {
     "data": {
      "text/plain": [
       "233"
      ]
     },
     "execution_count": 11,
     "metadata": {},
     "output_type": "execute_result"
    }
   ],
   "source": [
    "round(233.234)          # to nearest whole number"
   ]
  },
  {
   "cell_type": "code",
   "execution_count": 12,
   "id": "1f2281f3-8f90-41c5-81bc-0cd487af2ed4",
   "metadata": {},
   "outputs": [
    {
     "data": {
      "text/plain": [
       "233.236"
      ]
     },
     "execution_count": 12,
     "metadata": {},
     "output_type": "execute_result"
    }
   ],
   "source": [
    "round(233.235684, 3)    # Round to 3 decimal places"
   ]
  },
  {
   "cell_type": "code",
   "execution_count": 13,
   "id": "b54a79a0-1790-4441-8a8d-302f89bd1a8a",
   "metadata": {},
   "outputs": [
    {
     "data": {
      "text/plain": [
       "6.0"
      ]
     },
     "execution_count": 13,
     "metadata": {},
     "output_type": "execute_result"
    }
   ],
   "source": [
    "5 + 1.0"
   ]
  },
  {
   "cell_type": "markdown",
   "id": "66d87be0-620f-4d7f-adae-1a97be40a472",
   "metadata": {},
   "source": [
    "## Using the 'math' library"
   ]
  },
  {
   "cell_type": "code",
   "execution_count": 14,
   "id": "75b78586-47ec-473f-a6e1-d7adaafb4f05",
   "metadata": {},
   "outputs": [],
   "source": [
    "import math"
   ]
  },
  {
   "cell_type": "code",
   "execution_count": 15,
   "id": "35f546f0-536d-4c6b-8286-04afc3660852",
   "metadata": {},
   "outputs": [
    {
     "data": {
      "text/plain": [
       "2"
      ]
     },
     "execution_count": 15,
     "metadata": {},
     "output_type": "execute_result"
    }
   ],
   "source": [
    "math.floor(2.8) "
   ]
  },
  {
   "cell_type": "code",
   "execution_count": 16,
   "id": "9ad747ce-41d8-4d28-9227-79fc1358b9df",
   "metadata": {
    "tags": []
   },
   "outputs": [
    {
     "data": {
      "text/plain": [
       "3"
      ]
     },
     "execution_count": 16,
     "metadata": {},
     "output_type": "execute_result"
    }
   ],
   "source": [
    "math.ceil(2.2)"
   ]
  },
  {
   "cell_type": "code",
   "execution_count": 17,
   "id": "7086c4ea-216c-4be0-baf1-c270ff93f93f",
   "metadata": {},
   "outputs": [
    {
     "data": {
      "text/plain": [
       "0.9999698965391098"
      ]
     },
     "execution_count": 17,
     "metadata": {},
     "output_type": "execute_result"
    }
   ],
   "source": [
    "math.log(2.7182)  # natural log to the base \"e\""
   ]
  },
  {
   "cell_type": "code",
   "execution_count": 18,
   "id": "80fa4729-4347-4436-a14e-7e977842f14d",
   "metadata": {},
   "outputs": [
    {
     "data": {
      "text/plain": [
       "2.9999999999999996"
      ]
     },
     "execution_count": 18,
     "metadata": {},
     "output_type": "execute_result"
    }
   ],
   "source": [
    "math.log(1000, 10)"
   ]
  },
  {
   "cell_type": "code",
   "execution_count": 19,
   "id": "1588001d-6c06-485c-98f9-194a16828ac1",
   "metadata": {},
   "outputs": [
    {
     "data": {
      "text/plain": [
       "6.0"
      ]
     },
     "execution_count": 19,
     "metadata": {},
     "output_type": "execute_result"
    }
   ],
   "source": [
    "math.log(64, 2)  # 2 * 2 * 2 * 2 * 2 * 2"
   ]
  },
  {
   "cell_type": "code",
   "execution_count": 20,
   "id": "3efc7aef-0bd2-47e7-8f6b-ca46c75dd18d",
   "metadata": {},
   "outputs": [
    {
     "data": {
      "text/plain": [
       "1.0"
      ]
     },
     "execution_count": 20,
     "metadata": {},
     "output_type": "execute_result"
    }
   ],
   "source": [
    "Pi = math.pi          # 3.1415926\n",
    "math.sin(Pi/2)"
   ]
  },
  {
   "cell_type": "code",
   "execution_count": 21,
   "id": "b80023af-0b51-4b54-983a-e9ce2deec9e9",
   "metadata": {},
   "outputs": [
    {
     "data": {
      "text/plain": [
       "22026.465794806718"
      ]
     },
     "execution_count": 21,
     "metadata": {},
     "output_type": "execute_result"
    }
   ],
   "source": [
    "math.exp(10)          # e^10"
   ]
  },
  {
   "cell_type": "code",
   "execution_count": 22,
   "id": "c9628186-a75f-4242-8f4c-54f84723977e",
   "metadata": {},
   "outputs": [
    {
     "data": {
      "text/plain": [
       "8.0"
      ]
     },
     "execution_count": 22,
     "metadata": {},
     "output_type": "execute_result"
    }
   ],
   "source": [
    "math.sqrt(64)"
   ]
  },
  {
   "cell_type": "markdown",
   "id": "41303377-e79b-4093-9de2-5ff4cdc6b947",
   "metadata": {},
   "source": [
    "## BITWISE OPERATIONS (Optional)"
   ]
  },
  {
   "cell_type": "markdown",
   "id": "5cea068c-f0c3-4e70-bbd7-b65fff470bc3",
   "metadata": {},
   "source": [
    "<pre>\n",
    "\n",
    "OPERATOR  DESCRIPTION          SYNTAX\n",
    "&         Bitwise AND          x & y\n",
    "|         Bitwise OR           x | y\n",
    "~         Bitwise NOT          ~x\n",
    "^         Bitwise XOR          x ^ y\n",
    ">>        Bitwise right shif   x>>\n",
    "<<        Bitwise left shift   x<<\n",
    "\n",
    "</pre>"
   ]
  },
  {
   "cell_type": "code",
   "execution_count": 23,
   "id": "c06e3c1a-6dfc-4ca9-ba09-835bb129cb1b",
   "metadata": {},
   "outputs": [],
   "source": [
    "X = 10       # Bin 1010\n",
    "Y = 7        # Bin 0111"
   ]
  },
  {
   "cell_type": "code",
   "execution_count": 24,
   "id": "c1167ea0-a5f3-49b8-832a-623d32de4657",
   "metadata": {},
   "outputs": [
    {
     "data": {
      "text/plain": [
       "2"
      ]
     },
     "execution_count": 24,
     "metadata": {},
     "output_type": "execute_result"
    }
   ],
   "source": [
    "X & Y        # Bin 0010"
   ]
  },
  {
   "cell_type": "code",
   "execution_count": 25,
   "id": "49dcd484-7419-4af9-bff3-bf58ab3721c0",
   "metadata": {},
   "outputs": [
    {
     "data": {
      "text/plain": [
       "15"
      ]
     },
     "execution_count": 25,
     "metadata": {},
     "output_type": "execute_result"
    }
   ],
   "source": [
    "X | Y         # Bin 1111  ... 8 + 4 + 2 + 1"
   ]
  },
  {
   "cell_type": "code",
   "execution_count": 26,
   "id": "42ed6d82-a19e-4177-9f92-58e58b516774",
   "metadata": {},
   "outputs": [
    {
     "data": {
      "text/plain": [
       "-11"
      ]
     },
     "execution_count": 26,
     "metadata": {},
     "output_type": "execute_result"
    }
   ],
   "source": [
    "X \n",
    "~X   # 0101"
   ]
  },
  {
   "cell_type": "code",
   "execution_count": 27,
   "id": "a2b51068-e5e2-4280-bda1-29721988852d",
   "metadata": {},
   "outputs": [
    {
     "data": {
      "text/plain": [
       "13"
      ]
     },
     "execution_count": 27,
     "metadata": {},
     "output_type": "execute_result"
    }
   ],
   "source": [
    "X = 10       # Bin 1010\n",
    "Y = 7        # Bin 0111\n",
    "\n",
    "X ^ Y        # Bin 1101"
   ]
  },
  {
   "cell_type": "code",
   "execution_count": 28,
   "id": "f33e7b42-178c-4f8c-b4ae-50e632def477",
   "metadata": {},
   "outputs": [
    {
     "data": {
      "text/plain": [
       "4"
      ]
     },
     "execution_count": 28,
     "metadata": {},
     "output_type": "execute_result"
    }
   ],
   "source": [
    "X = 1    # 0000 0001\n",
    "X << 2   # 0000 0100"
   ]
  },
  {
   "cell_type": "code",
   "execution_count": 29,
   "id": "e25bcfe3-35c8-467d-9eef-173267d9c236",
   "metadata": {},
   "outputs": [
    {
     "data": {
      "text/plain": [
       "2"
      ]
     },
     "execution_count": 29,
     "metadata": {},
     "output_type": "execute_result"
    }
   ],
   "source": [
    "X = 4    # 0000 0100\n",
    "X >> 1   # 0000 0010"
   ]
  },
  {
   "cell_type": "code",
   "execution_count": null,
   "id": "cc505135-f9a0-42c9-8666-ea34c1f7b0b4",
   "metadata": {},
   "outputs": [],
   "source": []
  },
  {
   "cell_type": "code",
   "execution_count": null,
   "id": "63088591-16b4-468f-ba40-751c9ebfc1b6",
   "metadata": {},
   "outputs": [],
   "source": []
  }
 ],
 "metadata": {
  "kernelspec": {
   "display_name": "venv",
   "language": "python",
   "name": "venv"
  },
  "language_info": {
   "codemirror_mode": {
    "name": "ipython",
    "version": 3
   },
   "file_extension": ".py",
   "mimetype": "text/x-python",
   "name": "python",
   "nbconvert_exporter": "python",
   "pygments_lexer": "ipython3",
   "version": "3.8.5 (default, Sep  3 2020, 21:29:08) [MSC v.1916 64 bit (AMD64)]"
  }
 },
 "nbformat": 4,
 "nbformat_minor": 5
}
