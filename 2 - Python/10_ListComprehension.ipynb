{
 "cells": [
  {
   "attachments": {},
   "cell_type": "markdown",
   "metadata": {},
   "source": [
    "## List Comprehension"
   ]
  },
  {
   "attachments": {},
   "cell_type": "markdown",
   "metadata": {},
   "source": [
    "[ expression(item)    for item in collection    if condition ]"
   ]
  },
  {
   "cell_type": "code",
   "execution_count": 1,
   "metadata": {},
   "outputs": [
    {
     "data": {
      "text/plain": [
       "[20, 40, 60, 80]"
      ]
     },
     "execution_count": 1,
     "metadata": {},
     "output_type": "execute_result"
    }
   ],
   "source": [
    "# OLD WAY\n",
    "\n",
    "L = [10,20,30,40]\n",
    "\n",
    "AL = []  # initialized to empty list\n",
    "for item in L:\n",
    "    AL.append(2*item)\n",
    "\n",
    "AL"
   ]
  },
  {
   "cell_type": "code",
   "execution_count": 2,
   "metadata": {},
   "outputs": [
    {
     "data": {
      "text/plain": [
       "[20, 40, 60, 80]"
      ]
     },
     "execution_count": 2,
     "metadata": {},
     "output_type": "execute_result"
    }
   ],
   "source": [
    "# NEW WAY\n",
    "\n",
    "AL = [2*x for x in L]\n",
    "AL"
   ]
  },
  {
   "cell_type": "code",
   "execution_count": 5,
   "metadata": {},
   "outputs": [
    {
     "data": {
      "text/plain": [
       "[1000, 2000, 3000, 4000]"
      ]
     },
     "execution_count": 5,
     "metadata": {},
     "output_type": "execute_result"
    }
   ],
   "source": [
    "# f = lambda x: 100*x\n",
    "# AL = [ f(X) for x in L ]\n",
    "\n",
    "AL = [ (lambda x: 100*x)(x) for x in L ]\n",
    "AL"
   ]
  },
  {
   "cell_type": "code",
   "execution_count": 7,
   "metadata": {},
   "outputs": [
    {
     "name": "stdout",
     "output_type": "stream",
     "text": [
      "[0, 1, 2, 3, 4, 5, 6, 7, 8, 9, 10, 11, 12, 13, 14, 15, 16, 17, 18, 19, 20, 21, 22, 23, 24, 25, 26, 27, 28, 29, 30, 31, 32, 33, 34, 35, 36, 37, 38, 39, 40, 41, 42, 43, 44, 45, 46, 47, 48, 49, 50, 51, 52, 53, 54, 55, 56, 57, 58, 59, 60, 61, 62, 63, 64, 65, 66, 67, 68, 69, 70, 71, 72, 73, 74, 75, 76, 77, 78, 79, 80, 81, 82, 83, 84, 85, 86, 87, 88, 89, 90, 91, 92, 93, 94, 95, 96, 97, 98, 99]\n"
     ]
    }
   ],
   "source": [
    "L = [ x for x in range(0,100)]\n",
    "print(L)"
   ]
  },
  {
   "cell_type": "code",
   "execution_count": 11,
   "metadata": {},
   "outputs": [
    {
     "name": "stdout",
     "output_type": "stream",
     "text": [
      "[0, 20, 40, 60, 80, 100, 120, 140, 160, 180, 200, 220, 240, 260, 280, 300, 320, 340, 360, 380]\n"
     ]
    }
   ],
   "source": [
    "# Every item from L that is divisible by 3 and 5\n",
    "#      expr    for           condition\n",
    "L1 = [ x * 4     for x in L    if  (x%5==0) ]\n",
    "print(L1)"
   ]
  },
  {
   "cell_type": "code",
   "execution_count": 14,
   "metadata": {},
   "outputs": [
    {
     "name": "stdout",
     "output_type": "stream",
     "text": [
      "[(0, 0), (5, 20), (10, 20), (15, 60), (20, 40), (25, 100), (30, 60), (35, 140), (40, 80), (45, 180), (50, 100), (55, 220), (60, 120), (65, 260), (70, 140), (75, 300), (80, 160), (85, 340), (90, 180), (95, 380)]\n"
     ]
    }
   ],
   "source": [
    "# Take all items from L that are divisble by 5\n",
    "# If item is divisible by 5, then return 4x \n",
    "# if item is divisible by 10, then return 2x\n",
    "\n",
    "f = lambda x :  (x, 2*x) if x%10==0 else (x, 4*x)\n",
    "\n",
    "# def f(x):\n",
    "#     if x % 10 == 0:\n",
    "#         return (x, 2*x)\n",
    "#     else:\n",
    "#         return (x, 4*x)\n",
    "\n",
    "L1 = [  f(x)    for x in L     if x%5==0 ]\n",
    "print(L1)"
   ]
  },
  {
   "cell_type": "code",
   "execution_count": 17,
   "metadata": {},
   "outputs": [
    {
     "name": "stdout",
     "output_type": "stream",
     "text": [
      "['♣1', '♣2', '♣3', '♣4', '♣5', '♣6', '♣J', '♣Q', '♣K', '♣A', '♦1', '♦2', '♦3', '♦4', '♦5', '♦6', '♦J', '♦Q', '♦K', '♦A', '♥1', '♥2', '♥3', '♥4', '♥5', '♥6', '♥J', '♥Q', '♥K', '♥A', '♠1', '♠2', '♠3', '♠4', '♠5', '♠6', '♠J', '♠Q', '♠K', '♠A']\n"
     ]
    }
   ],
   "source": [
    "L2 = [ type+num  for type in [\"♣\", \"♦\", \"♥\", \"♠\"]\n",
    "            for num in [\"1\", \"2\", \"3\", \"4\", \"5\", \"6\", \"J\", \"Q\", \"K\", \"A\"] ]\n",
    "print(L2)"
   ]
  },
  {
   "cell_type": "code",
   "execution_count": 15,
   "metadata": {},
   "outputs": [
    {
     "data": {
      "text/plain": [
       "{'Delhi': 5, 'Mumbai': 6, 'Pune': 4, 'Akola': 5, 'Leh': 3}"
      ]
     },
     "execution_count": 15,
     "metadata": {},
     "output_type": "execute_result"
    }
   ],
   "source": [
    "# Dictionary Comprehension\n",
    "\n",
    "L = [\"Delhi\", \"Mumbai\", \"Pune\", \"Akola\", \"Leh\"]\n",
    "\n",
    "# {\n",
    "#     \"Delhi\": 5,\n",
    "#     \"Mumbai\": 6\n",
    "#     .... \n",
    "# }\n",
    "\n",
    "\n",
    "D = { key:len(key) for key in L}\n",
    "D"
   ]
  },
  {
   "cell_type": "code",
   "execution_count": null,
   "metadata": {},
   "outputs": [],
   "source": []
  }
 ],
 "metadata": {
  "kernelspec": {
   "display_name": "base",
   "language": "python",
   "name": "python3"
  },
  "language_info": {
   "codemirror_mode": {
    "name": "ipython",
    "version": 3
   },
   "file_extension": ".py",
   "mimetype": "text/x-python",
   "name": "python",
   "nbconvert_exporter": "python",
   "pygments_lexer": "ipython3",
   "version": "3.8.5 (default, Sep  3 2020, 21:29:08) [MSC v.1916 64 bit (AMD64)]"
  },
  "orig_nbformat": 4,
  "vscode": {
   "interpreter": {
    "hash": "8c0f66ee69a2e1be1f450e9783623bdbe6f07bfe65fded3af2a7652719518d17"
   }
  }
 },
 "nbformat": 4,
 "nbformat_minor": 2
}
