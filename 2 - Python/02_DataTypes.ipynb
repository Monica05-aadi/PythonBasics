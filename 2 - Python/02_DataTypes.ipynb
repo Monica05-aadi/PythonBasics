{
 "cells": [
  {
   "attachments": {},
   "cell_type": "markdown",
   "id": "7738b93e-2ec3-44f8-b2ca-602922f2b84a",
   "metadata": {},
   "source": [
    "## Different Types"
   ]
  },
  {
   "cell_type": "code",
   "execution_count": null,
   "id": "9b4dbe9c-b581-4de4-909e-fc2d35d74ce1",
   "metadata": {},
   "outputs": [],
   "source": [
    "type(15)"
   ]
  },
  {
   "cell_type": "code",
   "execution_count": null,
   "id": "97eaadd8-91be-4fb3-8f51-5332fa537db8",
   "metadata": {},
   "outputs": [],
   "source": [
    "type(4.56)"
   ]
  },
  {
   "cell_type": "code",
   "execution_count": null,
   "id": "aaccbf3e-1a97-43e7-a50a-b6d1e173c9b2",
   "metadata": {},
   "outputs": [],
   "source": [
    "type(True)"
   ]
  },
  {
   "cell_type": "code",
   "execution_count": null,
   "id": "12622244-8ae5-48b5-a5a7-55261bc654ae",
   "metadata": {},
   "outputs": [],
   "source": [
    "type(\"Hello World\")"
   ]
  },
  {
   "cell_type": "code",
   "execution_count": null,
   "id": "6c7fa483-de2f-4bd5-8048-2737afb469ff",
   "metadata": {},
   "outputs": [],
   "source": [
    "type('234')"
   ]
  },
  {
   "cell_type": "code",
   "execution_count": null,
   "id": "f8ff6ee8-626a-42b6-a8ce-aaf18667056d",
   "metadata": {},
   "outputs": [],
   "source": [
    "def add(a, b):\n",
    "    return a+b\n",
    "\n",
    "type(add)"
   ]
  },
  {
   "cell_type": "code",
   "execution_count": null,
   "id": "5f398434-8365-4e54-9353-16956d5fe47f",
   "metadata": {},
   "outputs": [],
   "source": [
    "L = [2,3,5,8]\n",
    "type(L)"
   ]
  },
  {
   "cell_type": "code",
   "execution_count": null,
   "id": "6eb8d89a-ab4b-4b2a-a778-cdcd86bce41d",
   "metadata": {},
   "outputs": [],
   "source": [
    "D = {'a':4, 'b':7}\n",
    "type(D)"
   ]
  },
  {
   "cell_type": "markdown",
   "id": "10fbab31-5104-4c12-b9e5-b3152817ea15",
   "metadata": {},
   "source": [
    "## Check if something is of type ...."
   ]
  },
  {
   "cell_type": "code",
   "execution_count": null,
   "id": "8db9da63-fbff-4b20-b1ae-8a2591c14c6c",
   "metadata": {},
   "outputs": [],
   "source": [
    "v = 0.5678\n",
    "print( isinstance(v, float) )\n",
    "print( isinstance(v, str) )"
   ]
  },
  {
   "cell_type": "code",
   "execution_count": null,
   "id": "c6d393cb-d626-43fd-b62c-c82f998c7872",
   "metadata": {},
   "outputs": [],
   "source": [
    "isinstance(False, bool)"
   ]
  },
  {
   "cell_type": "markdown",
   "id": "9376e107-9764-4d68-ac46-49e7a47c3a27",
   "metadata": {},
   "source": [
    "## Convert between data types"
   ]
  },
  {
   "cell_type": "code",
   "execution_count": null,
   "id": "8d231b87-306e-4078-b719-4a019a1843a8",
   "metadata": {},
   "outputs": [],
   "source": [
    "x = 5.67\n",
    "int(x)"
   ]
  },
  {
   "cell_type": "code",
   "execution_count": null,
   "id": "9274da92-371f-4b38-a0f8-067b6cddf476",
   "metadata": {},
   "outputs": [],
   "source": [
    "x = 5\n",
    "float(x)"
   ]
  },
  {
   "cell_type": "code",
   "execution_count": null,
   "id": "3f847768-a2b9-476b-b52e-031d6d809d23",
   "metadata": {},
   "outputs": [],
   "source": [
    "x = '234.567'\n",
    "float(x)"
   ]
  },
  {
   "cell_type": "code",
   "execution_count": null,
   "id": "b4f9b5b1-d031-452b-9dd3-ee344fa8aecd",
   "metadata": {},
   "outputs": [],
   "source": [
    "type(None)"
   ]
  },
  {
   "cell_type": "markdown",
   "id": "a3b03054-1095-47a7-81ea-94e6646295c5",
   "metadata": {},
   "source": [
    "## Logical Boolean Operators"
   ]
  },
  {
   "cell_type": "code",
   "execution_count": null,
   "id": "95c53ce6-9a24-4512-8634-364eb4607b02",
   "metadata": {},
   "outputs": [],
   "source": [
    "20 > 10   # > < == !=  >= <= "
   ]
  },
  {
   "cell_type": "code",
   "execution_count": null,
   "id": "31d2375c-20f9-4cbe-917a-4a91346ed570",
   "metadata": {},
   "outputs": [],
   "source": [
    "34 != 56"
   ]
  },
  {
   "cell_type": "code",
   "execution_count": null,
   "id": "cbc64ccf-dd0a-483a-93bb-f37582423d56",
   "metadata": {},
   "outputs": [],
   "source": [
    "not 34 != 56"
   ]
  },
  {
   "cell_type": "code",
   "execution_count": null,
   "id": "47cde19f-4a5d-4b09-8f82-d5771431b4b6",
   "metadata": {},
   "outputs": [],
   "source": [
    "(2 > 1) and (10 > 100)\n",
    "\n",
    "#   X   Y  |   X and Y   |   X or Y\n",
    "# ----------------------------------------------------\n",
    "#   F   F  |     F       |     F\n",
    "#   F   T  |     F       |     T\n",
    "#   T   F  |     F       |     T\n",
    "#   T   T  |     T       |     T"
   ]
  },
  {
   "cell_type": "code",
   "execution_count": null,
   "id": "95352e88-62ce-4a34-9cc9-cb39c95e8db7",
   "metadata": {},
   "outputs": [],
   "source": [
    "2 > 1   or   10 < 8   and   not True"
   ]
  },
  {
   "cell_type": "code",
   "execution_count": null,
   "id": "a26b66b0-5f6a-467c-86ce-8aa66bafb523",
   "metadata": {},
   "outputs": [],
   "source": [
    "((2 > 1) or (10 < 8)) and (not True)"
   ]
  },
  {
   "cell_type": "code",
   "execution_count": null,
   "id": "fccacbbc-53ab-46d2-879b-d0e06d0c1b77",
   "metadata": {},
   "outputs": [],
   "source": [
    "bool(0)"
   ]
  },
  {
   "cell_type": "code",
   "execution_count": null,
   "id": "1a36345a-3620-417b-b836-c87330bc5276",
   "metadata": {},
   "outputs": [],
   "source": [
    "bool(2332143)"
   ]
  },
  {
   "cell_type": "code",
   "execution_count": null,
   "id": "fc058b50-b1c5-4c96-84c6-a843eb7f907b",
   "metadata": {},
   "outputs": [],
   "source": [
    "bool(\"Hello\")"
   ]
  }
 ],
 "metadata": {
  "kernelspec": {
   "display_name": "Python 3.8.5 ('base')",
   "language": "python",
   "name": "python3"
  },
  "language_info": {
   "codemirror_mode": {
    "name": "ipython",
    "version": 3
   },
   "file_extension": ".py",
   "mimetype": "text/x-python",
   "name": "python",
   "nbconvert_exporter": "python",
   "pygments_lexer": "ipython3",
   "version": "3.8.5"
  },
  "vscode": {
   "interpreter": {
    "hash": "8c0f66ee69a2e1be1f450e9783623bdbe6f07bfe65fded3af2a7652719518d17"
   }
  }
 },
 "nbformat": 4,
 "nbformat_minor": 5
}
