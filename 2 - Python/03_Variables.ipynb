{
 "cells": [
  {
   "cell_type": "markdown",
   "metadata": {},
   "source": [
    "## Variables"
   ]
  },
  {
   "cell_type": "code",
   "execution_count": 10,
   "metadata": {},
   "outputs": [],
   "source": [
    "x = 3           # Don't do  x=3 (looks messy)  ... prefer x = 3  (looks clean)\n",
    "y = \"Hello \"\n",
    "z = 5*2 == 10\n",
    "n = m = 10"
   ]
  },
  {
   "cell_type": "code",
   "execution_count": 11,
   "metadata": {},
   "outputs": [
    {
     "name": "stdout",
     "output_type": "stream",
     "text": [
      "3\n",
      "9\n",
      "Hello \n",
      "Hello Hello Hello \n",
      "True\n",
      "10\n",
      "10\n"
     ]
    }
   ],
   "source": [
    "print(x)\n",
    "print(x*x)\n",
    "print(y)\n",
    "print(y*x)\n",
    "print(z)\n",
    "\n",
    "print(n); print(m)"
   ]
  },
  {
   "cell_type": "code",
   "execution_count": 12,
   "metadata": {},
   "outputs": [
    {
     "name": "stdout",
     "output_type": "stream",
     "text": [
      "10 20 30\n"
     ]
    }
   ],
   "source": [
    "x, y, z = (10, 20, 30)\n",
    "print(x, y, z)"
   ]
  },
  {
   "cell_type": "code",
   "execution_count": 13,
   "metadata": {},
   "outputs": [
    {
     "name": "stdout",
     "output_type": "stream",
     "text": [
      "20 10\n"
     ]
    }
   ],
   "source": [
    "#Swap numbers\n",
    "(x, y) = (y, x)\n",
    "print(x, y)"
   ]
  },
  {
   "cell_type": "code",
   "execution_count": 14,
   "metadata": {},
   "outputs": [
    {
     "name": "stdout",
     "output_type": "stream",
     "text": [
      "10 5\n"
     ]
    }
   ],
   "source": [
    "def SWAP(x, y):\n",
    "    temp = x\n",
    "    x = y\n",
    "    y = temp\n",
    "    return (x, y)\n",
    "\n",
    "x = 5; y = 10\n",
    "x, y = SWAP(x, y)\n",
    "print(x, y)"
   ]
  },
  {
   "cell_type": "code",
   "execution_count": 15,
   "metadata": {},
   "outputs": [
    {
     "data": {
      "text/plain": [
       "'hello'"
      ]
     },
     "execution_count": 15,
     "metadata": {},
     "output_type": "execute_result"
    }
   ],
   "source": [
    "# Manipulating Strings\n",
    "x = \"Hello\" \n",
    "y = x.lower()\n",
    "y"
   ]
  },
  {
   "cell_type": "code",
   "execution_count": 21,
   "metadata": {},
   "outputs": [
    {
     "name": "stdout",
     "output_type": "stream",
     "text": [
      "x =  [1, 2, 3]\n",
      "y =  [1, 2, 3]\n",
      "--------------------\n",
      "x =  [1, 2, 3, 4]\n",
      "y =  [1, 2, 3, 4]\n"
     ]
    }
   ],
   "source": [
    "x = [1,2,3]     # Create a new list\n",
    "y = x           # y is pointing to x.  It is not a copy of x.   x --> [1,2,3]  <-- y\n",
    "print(\"x = \", x)\n",
    "print(\"y = \", y)\n",
    "print(\"-\"*20)\n",
    "\n",
    "y.append(4)\n",
    "print(\"x = \", x)\n",
    "print(\"y = \", y)\n"
   ]
  },
  {
   "cell_type": "code",
   "execution_count": 22,
   "metadata": {},
   "outputs": [
    {
     "name": "stdout",
     "output_type": "stream",
     "text": [
      "x =  [1, 2, 3]\n",
      "y =  [1, 2, 3]\n",
      "--------------------\n",
      "x =  [1, 2, 3]\n",
      "y =  [1, 2, 3, 4]\n"
     ]
    }
   ],
   "source": [
    "from copy import deepcopy\n",
    "\n",
    "x = [1,2,3]             # Create a new list\n",
    "y = deepcopy(x)         # x = [1,2,3]   y = [1,2,3]\n",
    "print(\"x = \", x)\n",
    "print(\"y = \", y)\n",
    "print(\"-\"*20)\n",
    "\n",
    "y.append(4)\n",
    "print(\"x = \", x)\n",
    "print(\"y = \", y)"
   ]
  }
 ],
 "metadata": {
  "kernelspec": {
   "display_name": "Python 3.8.5 ('base')",
   "language": "python",
   "name": "python3"
  },
  "language_info": {
   "codemirror_mode": {
    "name": "ipython",
    "version": 3
   },
   "file_extension": ".py",
   "mimetype": "text/x-python",
   "name": "python",
   "nbconvert_exporter": "python",
   "pygments_lexer": "ipython3",
   "version": "3.8.5"
  },
  "orig_nbformat": 4,
  "vscode": {
   "interpreter": {
    "hash": "8c0f66ee69a2e1be1f450e9783623bdbe6f07bfe65fded3af2a7652719518d17"
   }
  }
 },
 "nbformat": 4,
 "nbformat_minor": 2
}
