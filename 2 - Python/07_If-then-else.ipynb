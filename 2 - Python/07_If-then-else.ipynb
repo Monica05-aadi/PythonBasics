{
 "cells": [
  {
   "cell_type": "markdown",
   "metadata": {},
   "source": [
    "## Control Flow"
   ]
  },
  {
   "attachments": {},
   "cell_type": "markdown",
   "metadata": {},
   "source": [
    "<pre>\n",
    "If [some condition]:\n",
    "    do something here....\n",
    "else:\n",
    "    do something else here .. \n",
    "<pre>"
   ]
  },
  {
   "cell_type": "code",
   "execution_count": 2,
   "metadata": {},
   "outputs": [],
   "source": [
    "Person = {\n",
    " 'name': 'Sam',\n",
    " 'city': 'Pune',\n",
    " 'age': 9,\n",
    " 'state': 'MH',\n",
    " 'studying': ['Social Science', 'English', 'History', 'Sanskrit']\n",
    " }"
   ]
  },
  {
   "cell_type": "code",
   "execution_count": 3,
   "metadata": {},
   "outputs": [
    {
     "name": "stdout",
     "output_type": "stream",
     "text": [
      "Hey! This is not Adi\n",
      "But I want to play with Adi\n"
     ]
    }
   ],
   "source": [
    "if Person['name'] == 'Adi':\n",
    "    print(\"This person is Adi\")\n",
    "    print(\"Let's go play !\")\n",
    "else:\n",
    "    print(\"Hey! This is not Adi\")\n",
    "    print(\"But I want to play with Adi\")\n",
    "\n",
    "# Block spacing is very important. Either 2 spaces of 4 spaces ... your choice. "
   ]
  },
  {
   "cell_type": "code",
   "execution_count": 5,
   "metadata": {},
   "outputs": [
    {
     "name": "stdout",
     "output_type": "stream",
     "text": [
      "You guessed age as 30\n",
      "Try guessing lower\n"
     ]
    }
   ],
   "source": [
    "guess = int( input(\"Enter guessed age .... \") )   # string input\n",
    "print(f\"You guessed age as {guess}\")\n",
    "\n",
    "if guess == Person['age']:\n",
    "    print(\"You guessed correctly\")\n",
    "elif guess < Person['age']:\n",
    "    print(\"Try guessing higher\")\n",
    "else:\n",
    "    print(\"Try guessing lower\")\n",
    "\n"
   ]
  },
  {
   "cell_type": "code",
   "execution_count": 7,
   "metadata": {},
   "outputs": [
    {
     "name": "stdout",
     "output_type": "stream",
     "text": [
      "You can't Vote\n"
     ]
    }
   ],
   "source": [
    "AA = int(input(\"Enter the number \"))\n",
    "if AA < 18 :\n",
    "    print(' You are Minor')\n",
    "elif AA > 18 & AA < 21 :\n",
    "    print(\"You can't Vote\") \n",
    "else:\n",
    "    print(\" Welcome you are Major\")"
   ]
  },
  {
   "cell_type": "code",
   "execution_count": null,
   "metadata": {},
   "outputs": [],
   "source": []
  }
 ],
 "metadata": {
  "kernelspec": {
   "display_name": "base",
   "language": "python",
   "name": "python3"
  },
  "language_info": {
   "codemirror_mode": {
    "name": "ipython",
    "version": 3
   },
   "file_extension": ".py",
   "mimetype": "text/x-python",
   "name": "python",
   "nbconvert_exporter": "python",
   "pygments_lexer": "ipython3",
   "version": "3.8.5 (default, Sep  3 2020, 21:29:08) [MSC v.1916 64 bit (AMD64)]"
  },
  "orig_nbformat": 4,
  "vscode": {
   "interpreter": {
    "hash": "8c0f66ee69a2e1be1f450e9783623bdbe6f07bfe65fded3af2a7652719518d17"
   }
  }
 },
 "nbformat": 4,
 "nbformat_minor": 2
}
