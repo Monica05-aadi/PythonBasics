{
 "cells": [
  {
   "attachments": {},
   "cell_type": "markdown",
   "metadata": {},
   "source": [
    "## Read Employee Data"
   ]
  },
  {
   "cell_type": "code",
   "execution_count": 37,
   "metadata": {},
   "outputs": [
    {
     "data": {
      "text/plain": [
       "['EMPLOYEE_ID,FIRST_NAME,LAST_NAME,EMAIL,PHONE_NUMBER,HIRE_DATE,JOB_ID,SALARY,COMMISSION_PCT,MANAGER_ID,DEPARTMENT_ID\\n',\n",
       " '198,Donald,OConnell,DOCONNEL,650.507.9833,21-JUN-07,SH_CLERK,2600, - ,124,50\\n',\n",
       " '199,Douglas,Grant,DGRANT,650.507.9844,13-JAN-08,SH_CLERK,2600, 5 ,124,50\\n',\n",
       " '200,Jennifer,Whalen,JWHALEN,515.123.4444,17-SEP-03,AD_ASST,4400, - ,101,10\\n',\n",
       " '201,Michael,Hartstein,MHARTSTE,515.123.5555,17-FEB-04,MK_MAN,13000, - ,100,20\\n']"
      ]
     },
     "execution_count": 37,
     "metadata": {},
     "output_type": "execute_result"
    }
   ],
   "source": [
    "# Read the \"employees.csv\" file into a list of strings called \"data\".  \n",
    "# The first line (data[0]) will contain the column header names.  Remaining lines will be actual data. \n",
    "data = []\n",
    "with open(\"employees.csv\", \"r\") as empFile:\n",
    "    data = empFile.readlines()\n",
    "    # empFile.close()\n",
    "\n",
    "data[:5]"
   ]
  },
  {
   "cell_type": "code",
   "execution_count": 38,
   "metadata": {},
   "outputs": [
    {
     "data": {
      "text/plain": [
       "['EMPLOYEE_ID',\n",
       " 'FIRST_NAME',\n",
       " 'LAST_NAME',\n",
       " 'EMAIL',\n",
       " 'PHONE_NUMBER',\n",
       " 'HIRE_DATE',\n",
       " 'JOB_ID',\n",
       " 'SALARY',\n",
       " 'COMMISSION_PCT',\n",
       " 'MANAGER_ID',\n",
       " 'DEPARTMENT_ID']"
      ]
     },
     "execution_count": 38,
     "metadata": {},
     "output_type": "execute_result"
    }
   ],
   "source": [
    "# Extract Column Names into a list called \"columnList\".  \n",
    "# Make sure there are no extra spaces or newlines in the names.\n",
    "\n",
    "columnNamesStr = data[0]                                # Column names are stored in 1st row. \n",
    "colNamesList = columnNamesStr.split(',')                # Split each column name\n",
    "colNamesList = [x.strip()  for x in colNamesList]       # Clean out spaces and \\n \n",
    "colNamesList\n",
    "\n"
   ]
  },
  {
   "cell_type": "code",
   "execution_count": 39,
   "metadata": {},
   "outputs": [
    {
     "data": {
      "text/plain": [
       "[{'EMPLOYEE_ID': '198',\n",
       "  'FIRST_NAME': 'Donald',\n",
       "  'LAST_NAME': 'OConnell',\n",
       "  'EMAIL': 'DOCONNEL',\n",
       "  'PHONE_NUMBER': '650.507.9833',\n",
       "  'HIRE_DATE': '21-JUN-07',\n",
       "  'JOB_ID': 'SH_CLERK',\n",
       "  'SALARY': '2600',\n",
       "  'COMMISSION_PCT': ' - ',\n",
       "  'MANAGER_ID': '124',\n",
       "  'DEPARTMENT_ID': '50'},\n",
       " {'EMPLOYEE_ID': '199',\n",
       "  'FIRST_NAME': 'Douglas',\n",
       "  'LAST_NAME': 'Grant',\n",
       "  'EMAIL': 'DGRANT',\n",
       "  'PHONE_NUMBER': '650.507.9844',\n",
       "  'HIRE_DATE': '13-JAN-08',\n",
       "  'JOB_ID': 'SH_CLERK',\n",
       "  'SALARY': '2600',\n",
       "  'COMMISSION_PCT': ' 5 ',\n",
       "  'MANAGER_ID': '124',\n",
       "  'DEPARTMENT_ID': '50'}]"
      ]
     },
     "execution_count": 39,
     "metadata": {},
     "output_type": "execute_result"
    }
   ],
   "source": [
    "# Read each employee data and make a dictionary of it. Store dictionary into a new list called \"employeeList\" as shown below.  \n",
    "employeeList = []  # [ \n",
    "# {'EMPLOYEE_ID': 198,  'FIRST_NAME': 'Donald', 'LAST_NAME': 'OConnel', .... },\n",
    "# {'EMPLOYEE_ID': 201,  'FIRST_NAME': 'Harriet', 'LAST_NAME': 'Smith', .... }\n",
    "#]\n",
    "\n",
    "\n",
    "# Process each employee string in data[ ] in a loop\n",
    "for empStr in data[1:]:\n",
    "    # Clean out the \\n at the end of the string. \n",
    "    # Example: \"201, Michael, .... 20\\n\" ==> \"201, Michael, .... 20\"\n",
    "    empStr = empStr.strip() \n",
    "\n",
    "    # Split the string into a list (let's call it empList)\n",
    "    empList = empStr.split(',')\n",
    "\n",
    "    # Create tuples that combine the field name with the value: \n",
    "    # empTuples = [('EMPLOYEE_ID', '198'), ('FIRST_NAME', 'Donald') ...]\n",
    "    empTuples = list( zip(colNamesList, empList) )  \n",
    "\n",
    "\n",
    "    # Convert above tuple to a dictionary \n",
    "    # empDict = { 'EMPLOYEE_ID': '198', 'FIRST_NAME': 'Donald',...}, ... }\n",
    "    empDict = { x:y  for (x,y) in empTuples }\n",
    "\n",
    "    # Add employee's dictionary to emplyeeList[]\n",
    "    employeeList.append(empDict)\n",
    "\n",
    "\n",
    "# Show employee list (limit it to 2 or 3 employees only ... else list will be too long)\n",
    "employeeList[:2]\n"
   ]
  },
  {
   "attachments": {},
   "cell_type": "markdown",
   "metadata": {},
   "source": [
    "## List Comprehensions"
   ]
  },
  {
   "cell_type": "code",
   "execution_count": 40,
   "metadata": {},
   "outputs": [
    {
     "name": "stdout",
     "output_type": "stream",
     "text": [
      "[('198', 2600), ('199', 2600), ('200', 4400), ('201', 13000), ('202', 6000), ('203', 6500), ('204', 10000), ('205', 12008), ('206', 8300), ('100', 24000), ('101', 17000), ('102', 17000), ('103', 9000), ('104', 6000), ('105', 4800), ('106', 4800), ('107', 4200), ('108', 12008), ('109', 9000), ('110', 8200), ('111', 7700), ('112', 7800), ('113', 6900), ('114', 11000), ('115', 3100), ('116', 2900), ('117', 2800), ('118', 2600), ('119', 2500), ('120', 8000), ('121', 8200), ('122', 7900), ('123', 6500), ('124', 5800), ('125', 3200), ('126', 2700), ('127', 2400), ('128', 2200), ('129', 3300), ('130', 2800), ('131', 2500), ('132', 2100), ('133', 3300), ('134', 2900), ('135', 2400), ('136', 2200), ('137', 3600), ('138', 3200), ('139', 2700), ('140', 2500)]\n"
     ]
    }
   ],
   "source": [
    "# List Comprehension 1\n",
    "# Get (id, salary) of all people into a list. Change id to int\n",
    "# find avg / max / min salaries. \n",
    "\n",
    "id_and_salary = [ (empl['EMPLOYEE_ID'], int(empl['SALARY']))     for empl in employeeList  ]\n",
    "print(id_and_salary)\n"
   ]
  },
  {
   "cell_type": "code",
   "execution_count": null,
   "metadata": {},
   "outputs": [],
   "source": []
  },
  {
   "cell_type": "code",
   "execution_count": 41,
   "metadata": {},
   "outputs": [
    {
     "data": {
      "text/plain": [
       "[('Donald OConnell', '21-JUN-07'),\n",
       " ('Douglas Grant', '13-JAN-08'),\n",
       " ('Jennifer Whalen', '17-SEP-03'),\n",
       " ('Michael Hartstein', '17-FEB-04'),\n",
       " ('Pat Fay', '17-AUG-05')]"
      ]
     },
     "execution_count": 41,
     "metadata": {},
     "output_type": "execute_result"
    }
   ],
   "source": [
    "# List comprehension 2\n",
    "# Get names (first+last) and hire_date as list of tuples\n",
    "\n",
    "joinDateTuple = lambda x: ( x['FIRST_NAME'] + \" \" + x['LAST_NAME'] , x['HIRE_DATE'] )\n",
    "\n",
    "JoiningDateOfEmpl = [ joinDateTuple(e)   for e in employeeList]\n",
    "JoiningDateOfEmpl[:5]"
   ]
  },
  {
   "cell_type": "code",
   "execution_count": 42,
   "metadata": {},
   "outputs": [
    {
     "name": "stdout",
     "output_type": "stream",
     "text": [
      "[('199', ' 5 ', '50'), ('101', ' 6 ', '90'), ('107', ' 3 ', '60'), ('118', ' 4 ', '30')]\n"
     ]
    }
   ],
   "source": [
    "# List comprehension 3\n",
    "# [ (id, commission_pct, dept_id), (id, commission_pct, dept_id), (), .... ]\n",
    "\n",
    "emplCommision = lambda x: (x['EMPLOYEE_ID'], x['COMMISSION_PCT'], x['DEPARTMENT_ID'])\n",
    "emplWithCommision = [ emplCommision(a) for a in employeeList if a['COMMISSION_PCT'] != ' - ' ]\n",
    "print(emplWithCommision)"
   ]
  },
  {
   "attachments": {},
   "cell_type": "markdown",
   "metadata": {},
   "source": [
    "## SORTING"
   ]
  },
  {
   "cell_type": "code",
   "execution_count": 43,
   "metadata": {},
   "outputs": [
    {
     "name": "stdout",
     "output_type": "stream",
     "text": [
      "[('100', 24000), ('101', 17000), ('102', 17000), ('201', 13000), ('205', 12008), ('108', 12008), ('114', 11000), ('204', 10000), ('103', 9000), ('109', 9000), ('206', 8300), ('110', 8200), ('121', 8200), ('120', 8000), ('122', 7900), ('112', 7800), ('111', 7700), ('113', 6900), ('203', 6500), ('123', 6500), ('202', 6000), ('104', 6000), ('124', 5800), ('105', 4800), ('106', 4800), ('200', 4400), ('107', 4200), ('137', 3600), ('129', 3300), ('133', 3300), ('125', 3200), ('138', 3200), ('115', 3100), ('116', 2900), ('134', 2900), ('117', 2800), ('130', 2800), ('126', 2700), ('139', 2700), ('198', 2600), ('199', 2600), ('118', 2600), ('119', 2500), ('131', 2500), ('140', 2500), ('127', 2400), ('135', 2400), ('128', 2200), ('136', 2200), ('132', 2100)]\n"
     ]
    }
   ],
   "source": [
    "# Sort id_and_salary list based on increasing order of salary\n",
    "# [].sort() has a key and reverse parameters. \n",
    "# Key is a function to return the item on which to sort. \n",
    "# reverse = True/False which shows the direction (increasing / decreasing) for the sort\n",
    "\n",
    "id_and_salary.sort(key=lambda x: x[1] ,  reverse=True)\n",
    "print(id_and_salary)"
   ]
  },
  {
   "cell_type": "code",
   "execution_count": 44,
   "metadata": {},
   "outputs": [
    {
     "data": {
      "text/plain": [
       "['100', '101', '102', '201', '205', '108', '114', '204', '103', '109']"
      ]
     },
     "execution_count": 44,
     "metadata": {},
     "output_type": "execute_result"
    }
   ],
   "source": [
    "# Show employee id's with top 10 salaries. \n",
    "# [100, 101, 102, .... 109]\n",
    "\n",
    "topTenId = [ a[0] for a in  id_and_salary[:10] ]\n",
    "topTenId"
   ]
  },
  {
   "cell_type": "code",
   "execution_count": 45,
   "metadata": {},
   "outputs": [
    {
     "data": {
      "text/plain": [
       "'100'"
      ]
     },
     "execution_count": 45,
     "metadata": {},
     "output_type": "execute_result"
    }
   ],
   "source": [
    "# Find id with highest salary in id_and_salary list. \n",
    "id_and_salary[0][0]"
   ]
  },
  {
   "cell_type": "code",
   "execution_count": 46,
   "metadata": {},
   "outputs": [
    {
     "name": "stdout",
     "output_type": "stream",
     "text": [
      "309116\n",
      "50\n",
      "6182.32\n"
     ]
    }
   ],
   "source": [
    "# Find AVERAGE salary\n",
    "\n",
    "sum_of_salaries = sum( [i[1] for i in id_and_salary] )\n",
    "print(sum_of_salaries)\n",
    "\n",
    "len_of_emplyeeList = len(employeeList)\n",
    "print(len_of_emplyeeList)\n",
    "\n",
    "avg = sum_of_salaries / len_of_emplyeeList\n",
    "print(avg)"
   ]
  },
  {
   "cell_type": "code",
   "execution_count": 47,
   "metadata": {},
   "outputs": [
    {
     "data": {
      "text/plain": [
       "[('Donald OConnell', '21-JUN-07'),\n",
       " ('Douglas Grant', '13-JAN-08'),\n",
       " ('Jennifer Whalen', '17-SEP-03'),\n",
       " ('Michael Hartstein', '17-FEB-04'),\n",
       " ('Pat Fay', '17-AUG-05')]"
      ]
     },
     "execution_count": 47,
     "metadata": {},
     "output_type": "execute_result"
    }
   ],
   "source": [
    "# (emplyeeName, hireDate)\n",
    "emplHiredate = [ (e['FIRST_NAME'] + ' ' + e['LAST_NAME'], e['HIRE_DATE'])  for e in employeeList ]\n",
    "emplHiredate[:5]"
   ]
  },
  {
   "cell_type": "code",
   "execution_count": 48,
   "metadata": {},
   "outputs": [
    {
     "data": {
      "text/plain": [
       "[('Donald OConnell', datetime.datetime(2007, 6, 21, 0, 0)),\n",
       " ('Douglas Grant', datetime.datetime(2008, 1, 13, 0, 0)),\n",
       " ('Jennifer Whalen', datetime.datetime(2003, 9, 17, 0, 0)),\n",
       " ('Michael Hartstein', datetime.datetime(2004, 2, 17, 0, 0)),\n",
       " ('Pat Fay', datetime.datetime(2005, 8, 17, 0, 0))]"
      ]
     },
     "execution_count": 48,
     "metadata": {},
     "output_type": "execute_result"
    }
   ],
   "source": [
    "# Who were the first 5 employees hired? \n",
    "\n",
    "# [ (name, date)  (name, date) ..... in ascending order]\n",
    "# we have to sort on hiredate in ascending order. \n",
    "# we need to change hiredate into datetime format before sorting. \n",
    "\n",
    "from datetime import datetime\n",
    "\n",
    "emplHiredate = [ (t[0], datetime.strptime(t[1], \"%d-%b-%y\"))  for t in emplHiredate]\n",
    "emplHiredate[:5]\n"
   ]
  },
  {
   "cell_type": "code",
   "execution_count": 49,
   "metadata": {},
   "outputs": [
    {
     "data": {
      "text/plain": [
       "[('Lex De Haan', datetime.datetime(2001, 1, 13, 0, 0)),\n",
       " ('Susan Mavris', datetime.datetime(2002, 6, 7, 0, 0)),\n",
       " ('Hermann Baer', datetime.datetime(2002, 6, 7, 0, 0)),\n",
       " ('Shelley Higgins', datetime.datetime(2002, 6, 7, 0, 0)),\n",
       " ('William Gietz', datetime.datetime(2002, 6, 7, 0, 0)),\n",
       " ('Daniel Faviet', datetime.datetime(2002, 8, 16, 0, 0)),\n",
       " ('Nancy Greenberg', datetime.datetime(2002, 8, 17, 0, 0)),\n",
       " ('Den Raphaely', datetime.datetime(2002, 12, 7, 0, 0)),\n",
       " ('Payam Kaufling', datetime.datetime(2003, 5, 1, 0, 0)),\n",
       " ('Alexander Khoo', datetime.datetime(2003, 5, 18, 0, 0))]"
      ]
     },
     "execution_count": 49,
     "metadata": {},
     "output_type": "execute_result"
    }
   ],
   "source": [
    "# We need to sort on date\n",
    "emplHiredate.sort(key=lambda x: x[1])\n",
    "emplHiredate[:10]"
   ]
  },
  {
   "cell_type": "code",
   "execution_count": 50,
   "metadata": {},
   "outputs": [
    {
     "data": {
      "text/plain": [
       "[('Lex De Haan', datetime.datetime(2001, 1, 13, 0, 0)),\n",
       " ('Susan Mavris', datetime.datetime(2002, 6, 7, 0, 0)),\n",
       " ('Hermann Baer', datetime.datetime(2002, 6, 7, 0, 0)),\n",
       " ('Shelley Higgins', datetime.datetime(2002, 6, 7, 0, 0)),\n",
       " ('William Gietz', datetime.datetime(2002, 6, 7, 0, 0)),\n",
       " ('Daniel Faviet', datetime.datetime(2002, 8, 16, 0, 0)),\n",
       " ('Nancy Greenberg', datetime.datetime(2002, 8, 17, 0, 0)),\n",
       " ('Den Raphaely', datetime.datetime(2002, 12, 7, 0, 0)),\n",
       " ('Payam Kaufling', datetime.datetime(2003, 5, 1, 0, 0)),\n",
       " ('Alexander Khoo', datetime.datetime(2003, 5, 18, 0, 0))]"
      ]
     },
     "execution_count": 50,
     "metadata": {},
     "output_type": "execute_result"
    }
   ],
   "source": [
    "# First 10 employees\n",
    "emplHiredate[:10]"
   ]
  },
  {
   "cell_type": "code",
   "execution_count": 51,
   "metadata": {},
   "outputs": [
    {
     "data": {
      "text/plain": [
       "[('Steven Markle', datetime.datetime(2008, 3, 8, 0, 0)),\n",
       " ('Hazel Philtanker', datetime.datetime(2008, 2, 6, 0, 0)),\n",
       " ('Douglas Grant', datetime.datetime(2008, 1, 13, 0, 0)),\n",
       " ('Ki Gee', datetime.datetime(2007, 12, 12, 0, 0)),\n",
       " ('Luis Popp', datetime.datetime(2007, 12, 7, 0, 0)),\n",
       " ('Kevin Mourgos', datetime.datetime(2007, 11, 16, 0, 0)),\n",
       " ('Karen Colmenares', datetime.datetime(2007, 8, 10, 0, 0)),\n",
       " ('Donald OConnell', datetime.datetime(2007, 6, 21, 0, 0)),\n",
       " ('Bruce Ernst', datetime.datetime(2007, 5, 21, 0, 0)),\n",
       " ('TJ Olson', datetime.datetime(2007, 4, 10, 0, 0))]"
      ]
     },
     "execution_count": 51,
     "metadata": {},
     "output_type": "execute_result"
    }
   ],
   "source": [
    "# Newest 10 employees in descending order of hire\n",
    "EL = emplHiredate[-10:]\n",
    "EL.sort(key=lambda t: t[1], reverse=True)\n",
    "EL"
   ]
  },
  {
   "cell_type": "code",
   "execution_count": 54,
   "metadata": {},
   "outputs": [
    {
     "name": "stdout",
     "output_type": "stream",
     "text": [
      "['James Landry', 'Diana Lorentz', 'TJ Olson', 'Bruce Ernst', 'Donald OConnell', 'Karen Colmenares', 'Kevin Mourgos', 'Luis Popp', 'Ki Gee']\n",
      "9\n"
     ]
    }
   ],
   "source": [
    "# How many employees were hired in 2007 ?\n",
    "EL2007 = [ e[0]  for e in emplHiredate    if e[1].year == 2007]\n",
    "print( EL2007 )\n",
    "print(len(EL2007))"
   ]
  },
  {
   "cell_type": "code",
   "execution_count": 60,
   "metadata": {},
   "outputs": [
    {
     "data": {
      "text/plain": [
       "[('Lex De Haan', datetime.datetime(2001, 1, 13, 0, 0)),\n",
       " ('Susan Mavris', datetime.datetime(2002, 6, 7, 0, 0)),\n",
       " ('Hermann Baer', datetime.datetime(2002, 6, 7, 0, 0)),\n",
       " ('Shelley Higgins', datetime.datetime(2002, 6, 7, 0, 0))]"
      ]
     },
     "execution_count": 60,
     "metadata": {},
     "output_type": "execute_result"
    }
   ],
   "source": [
    "# All meployees hired up to July 2005\n",
    "emp2005 = [ i for i in emplHiredate if i[1].year <= 2005 and i[1].month <= 7 ]\n",
    "emp2005[:4]"
   ]
  }
 ],
 "metadata": {
  "kernelspec": {
   "display_name": "base",
   "language": "python",
   "name": "python3"
  },
  "language_info": {
   "codemirror_mode": {
    "name": "ipython",
    "version": 3
   },
   "file_extension": ".py",
   "mimetype": "text/x-python",
   "name": "python",
   "nbconvert_exporter": "python",
   "pygments_lexer": "ipython3",
   "version": "3.8.5"
  },
  "orig_nbformat": 4,
  "vscode": {
   "interpreter": {
    "hash": "8c0f66ee69a2e1be1f450e9783623bdbe6f07bfe65fded3af2a7652719518d17"
   }
  }
 },
 "nbformat": 4,
 "nbformat_minor": 2
}
