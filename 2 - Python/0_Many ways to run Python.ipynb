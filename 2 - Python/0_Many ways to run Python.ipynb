{
 "cells": [
  {
   "attachments": {},
   "cell_type": "markdown",
   "metadata": {},
   "source": [
    "## 1.  Using Python \"Shell\" (a.k.a \"REPL\")"
   ]
  },
  {
   "cell_type": "code",
   "execution_count": null,
   "metadata": {},
   "outputs": [],
   "source": [
    "# On a terminal do:\n",
    "# C:> python\n",
    "\n",
    "# Can now use regular python commands. \n",
    "# Exit from shell with \"exit()\". "
   ]
  },
  {
   "attachments": {},
   "cell_type": "markdown",
   "metadata": {},
   "source": [
    "## 2. Using IPython shell\n",
    "#### Enhanced with coloring and some autocompletion"
   ]
  },
  {
   "cell_type": "code",
   "execution_count": null,
   "metadata": {},
   "outputs": [],
   "source": [
    "# On a terminal do:\n",
    "# C:> ipython\n",
    "\n",
    "# Can now use regular python commands. \n",
    "# Exit from shell with \"exit()\". "
   ]
  },
  {
   "attachments": {},
   "cell_type": "markdown",
   "metadata": {},
   "source": [
    "## 3. Using a script file (*.py)"
   ]
  },
  {
   "cell_type": "code",
   "execution_count": null,
   "metadata": {},
   "outputs": [],
   "source": [
    "# Create a file with python commands in it and save it as a <some_name>.py file. \n",
    "# On a terminal, run the command  \"python <some_name>.py\"\n",
    "# The entire python file will be run from top to bottom. \n",
    "\n",
    "# Advantage:\n",
    "# -- Can save code as logically organized steps\n",
    "# -- Can spread the code over multiple files and files can reference/import each other.   \n",
    "# -- This is how most code is usually written in production.\n",
    "\n",
    "# All other methods outlined are for experimentation and educational purposes only. "
   ]
  },
  {
   "attachments": {},
   "cell_type": "markdown",
   "metadata": {},
   "source": [
    "## 4. Using Jupyter notebook (*.ipynb)"
   ]
  },
  {
   "cell_type": "code",
   "execution_count": null,
   "metadata": {},
   "outputs": [],
   "source": [
    "# Assuming jupyter is installed (comes by default with anaconda python), on a terminal do:\n",
    "\n",
    "# C:> jupyter notebook\n",
    "\n",
    "# This will run a jupyter server in the terminal/shell and browser will pop up with a jupyter notebook open.\n",
    "# Add commands in cells, run cells, delete cells, move cells etc. \n",
    "# You can save the notebook as <some name>.ipynb file. You can later reopen this file in j-notebooks.\n"
   ]
  },
  {
   "attachments": {},
   "cell_type": "markdown",
   "metadata": {},
   "source": [
    "## 4. Using Jupyter lab"
   ]
  },
  {
   "attachments": {},
   "cell_type": "markdown",
   "metadata": {},
   "source": [
    "# This is a enhanced version of jupyter notebooks. Everyone uses j-lab instead of j-notebooks these days. Has some nicer features like color themes, easier navigation of files etc. \n",
    "\n",
    "# C:> jupyter lab"
   ]
  },
  {
   "attachments": {},
   "cell_type": "markdown",
   "metadata": {},
   "source": [
    "## 5. Using Jupyter in Google's colab (Online)"
   ]
  },
  {
   "cell_type": "code",
   "execution_count": null,
   "metadata": {},
   "outputs": [],
   "source": [
    "# https://colab.research.google.com\n",
    "\n",
    "# Very similar interface as jupyter notebooks. \n",
    "\n",
    "# Advantage:\n",
    "# -- Can share online easily with team-mates. \n",
    "# -- Can link with both github and google-drive. \n",
    "# -- Can use google's compute resources if your local machine is not powerful enough. \n",
    "# -- Lot's of help online. \n",
    "\n",
    "# Use online platforms when doing more advanced stuff in Data Science or \n",
    "# if you don't have a local machine with enough resources. "
   ]
  },
  {
   "attachments": {},
   "cell_type": "markdown",
   "metadata": {},
   "source": [
    "## 6. Using Jupyter on Kaggle.com (Online)"
   ]
  },
  {
   "cell_type": "code",
   "execution_count": null,
   "metadata": {},
   "outputs": [],
   "source": [
    "# https://kaggle.com/code  (Kaggle is subsidiary of Google)\n",
    "\n",
    "# Very similar to Google Colab. \n",
    "# Some limitations in terms of cpu power and storage. \n",
    "# Access to a vast number of free data-sets.\n",
    "# Good to participate in Kaggle competitions if you can (they are tough).\n"
   ]
  },
  {
   "attachments": {},
   "cell_type": "markdown",
   "metadata": {},
   "source": [
    "## 7. Using Jupyter NoteBooks on Visual Studio Code"
   ]
  },
  {
   "cell_type": "code",
   "execution_count": null,
   "metadata": {},
   "outputs": [],
   "source": [
    "# You can open *.ipynb files in VS Code and an interface similar to Jupyter will be available. "
   ]
  }
 ],
 "metadata": {
  "language_info": {
   "name": "python"
  },
  "orig_nbformat": 4
 },
 "nbformat": 4,
 "nbformat_minor": 2
}
