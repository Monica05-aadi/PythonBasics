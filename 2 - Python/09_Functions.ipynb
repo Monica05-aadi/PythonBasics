{
 "cells": [
  {
   "attachments": {},
   "cell_type": "markdown",
   "metadata": {},
   "source": [
    "## Functions"
   ]
  },
  {
   "attachments": {},
   "cell_type": "markdown",
   "metadata": {},
   "source": [
    "# Math Functions\n",
    "```\n",
    "x = f(z,y) | z + 2y\n",
    "\n",
    "x = f(2,3) = 8 \n",
    "x = f(4,1) = 6\n",
    "```"
   ]
  },
  {
   "cell_type": "code",
   "execution_count": null,
   "metadata": {},
   "outputs": [],
   "source": [
    "while there are more customers:\n",
    "    get customer input ... principal, months, interest rate\n",
    "    x = interest(p,m,r)\n",
    "\n",
    "# print end of month summary\n",
    "y = interest(p,m,r)\n",
    "\n",
    "# Define funtion once ... reuse it anywhere. \n",
    "def interest(p, m, r):\n",
    "    i = p*r^m/12\n",
    "    return i"
   ]
  },
  {
   "cell_type": "code",
   "execution_count": 4,
   "metadata": {},
   "outputs": [
    {
     "name": "stdout",
     "output_type": "stream",
     "text": [
      "6\n",
      "24\n",
      "3 4 5\n",
      "12\n"
     ]
    }
   ],
   "source": [
    "# DEFAULT ARGUMENTS\n",
    "def sum3items(a, b, c=10, printargs=False):\n",
    "    if printargs:\n",
    "        print(a,b,c)\n",
    "    print( a + b + c )\n",
    "\n",
    "\n",
    "sum3items(1, 2, 3)\n",
    "sum3items(5, 9)\n",
    "sum3items(3, 4, c=5, printargs=True)\n",
    "\n"
   ]
  },
  {
   "cell_type": "code",
   "execution_count": 9,
   "metadata": {},
   "outputs": [
    {
     "name": "stdout",
     "output_type": "stream",
     "text": [
      "6\n",
      "15\n",
      "3\n",
      "209\n"
     ]
    }
   ],
   "source": [
    "# OPTIONAL\n",
    "# UNNAMED ARGUMENTS ... Variable number of arguments. \n",
    "def sum_many(*args):\n",
    "    print( sum(args) )\n",
    "\n",
    "\n",
    "sum_many(1,2,3)\n",
    "sum_many(1,2,3, 4, 5)\n",
    "sum_many(1,2)\n",
    "sum_many(10, 45, 66, 88)"
   ]
  },
  {
   "cell_type": "code",
   "execution_count": 11,
   "metadata": {},
   "outputs": [
    {
     "name": "stdout",
     "output_type": "stream",
     "text": [
      "dict_keys(['a', 'b', 'c']) dict_values([100, 200, 500])\n",
      "800\n"
     ]
    }
   ],
   "source": [
    "# OPTIONAL\n",
    "# NAMED ARGUMENTS ... variable number of named arguments. \n",
    "# kwargs = keyword arguments.  Example: firstname=\"Monica\", lastname=\"goud\"\n",
    "def sum_many(**kwargs):\n",
    "    print( kwargs.keys(), kwargs.values() )\n",
    "    print( sum(kwargs.values() ) )\n",
    "\n",
    "\n",
    "sum_many(a=100, b=200, c=500)"
   ]
  },
  {
   "cell_type": "code",
   "execution_count": null,
   "metadata": {},
   "outputs": [],
   "source": [
    "# Documenting a python function. \n",
    "\n",
    "def interest(p, m, r):\n",
    "    \"\"\"\n",
    "    This function computes the sum of all the parameters. \n",
    "\n",
    "    Args:\n",
    "        p: principl amount\n",
    "        m: number of months\n",
    "        r: interest rate (annual)\n",
    "\n",
    "    Output:\n",
    "        Returns the interest calculated from above 3 parameters\n",
    "    \"\"\"\n",
    "\n",
    "    pass\n",
    "\n"
   ]
  },
  {
   "attachments": {},
   "cell_type": "markdown",
   "metadata": {},
   "source": [
    "## Lambda Functions "
   ]
  },
  {
   "cell_type": "code",
   "execution_count": null,
   "metadata": {},
   "outputs": [],
   "source": [
    "# Anonymous functions ... functions without a name. \n",
    "\n",
    "def sum(x, y):\n",
    "    return x + y\n",
    "\n",
    "lambda x, y: x + y\n"
   ]
  },
  {
   "cell_type": "code",
   "execution_count": 13,
   "metadata": {},
   "outputs": [
    {
     "data": {
      "text/plain": [
       "[20, 40, 60, 80]"
      ]
     },
     "execution_count": 13,
     "metadata": {},
     "output_type": "execute_result"
    }
   ],
   "source": [
    "# Generally used in list comprehensions\n",
    "L = [10,20,30,40]\n",
    "\n",
    "double = lambda x: 2*x\n",
    "\n",
    "AL = [ double(x) for x in L]\n",
    "AL"
   ]
  },
  {
   "cell_type": "code",
   "execution_count": 16,
   "metadata": {},
   "outputs": [
    {
     "name": "stdout",
     "output_type": "stream",
     "text": [
      "100\n",
      "400\n",
      "900\n",
      "1600\n"
     ]
    }
   ],
   "source": [
    "L = [10,20,30,40]\n",
    "\n",
    "square = lambda x: x*x\n",
    "\n",
    "AMap = map(square, L)\n",
    "\n",
    "for item in AMap:\n",
    "    print(item)"
   ]
  },
  {
   "cell_type": "code",
   "execution_count": null,
   "metadata": {},
   "outputs": [],
   "source": []
  }
 ],
 "metadata": {
  "kernelspec": {
   "display_name": "base",
   "language": "python",
   "name": "python3"
  },
  "language_info": {
   "codemirror_mode": {
    "name": "ipython",
    "version": 3
   },
   "file_extension": ".py",
   "mimetype": "text/x-python",
   "name": "python",
   "nbconvert_exporter": "python",
   "pygments_lexer": "ipython3",
   "version": "3.8.5"
  },
  "orig_nbformat": 4,
  "vscode": {
   "interpreter": {
    "hash": "8c0f66ee69a2e1be1f450e9783623bdbe6f07bfe65fded3af2a7652719518d17"
   }
  }
 },
 "nbformat": 4,
 "nbformat_minor": 2
}
